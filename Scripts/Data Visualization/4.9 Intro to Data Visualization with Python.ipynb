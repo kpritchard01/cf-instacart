{
 "cells": [
  {
   "cell_type": "markdown",
   "id": "00fbb503",
   "metadata": {},
   "source": [
    "## Data Visualizations"
   ]
  },
  {
   "cell_type": "markdown",
   "id": "f780d962",
   "metadata": {},
   "source": [
    "### This script contains the following points:\n",
    "#### 01. Creating Bar Charts\n",
    "#### 02. Exporting Charts\n",
    "#### 03. Creating Histograms and Scatterplots\n",
    "#### 04. Creating Line Charts\n",
    "#### 05. Sampling Data"
   ]
  },
  {
   "cell_type": "code",
   "execution_count": 1,
   "id": "19a90eda",
   "metadata": {},
   "outputs": [],
   "source": [
    "# Import libraries\n",
    "import pandas as pd\n",
    "import numpy as np\n",
    "import os\n",
    "import matplotlib.pyplot as plt\n",
    "import seaborn as sns\n",
    "import scipy"
   ]
  },
  {
   "cell_type": "code",
   "execution_count": 2,
   "id": "e7bca93e",
   "metadata": {},
   "outputs": [
    {
     "name": "stdout",
     "output_type": "stream",
     "text": [
      "/Users/schitchards/Documents/Data Analytics/Programming/Instacart Basket Analysis/03 Scripts\n"
     ]
    }
   ],
   "source": [
    "working_directory = os.getcwd()\n",
    "print(working_directory)"
   ]
  },
  {
   "cell_type": "code",
   "execution_count": 3,
   "id": "df02168f",
   "metadata": {},
   "outputs": [],
   "source": [
    "path = r'/Users/schitchards/Documents/Data Analytics/Programming/Instacart Basket Analysis'"
   ]
  },
  {
   "cell_type": "code",
   "execution_count": 6,
   "id": "fcf70f07",
   "metadata": {},
   "outputs": [],
   "source": [
    "df = pd.read_pickle(os.path.join(path, '02 Data', 'Prepared Data', 'orders_flags.pkl'))"
   ]
  },
  {
   "cell_type": "code",
   "execution_count": 7,
   "id": "64c77a7a",
   "metadata": {},
   "outputs": [
    {
     "data": {
      "text/plain": [
       "(32404859, 24)"
      ]
     },
     "execution_count": 7,
     "metadata": {},
     "output_type": "execute_result"
    }
   ],
   "source": [
    "df.shape"
   ]
  },
  {
   "cell_type": "code",
   "execution_count": 8,
   "id": "5c607e19",
   "metadata": {},
   "outputs": [
    {
     "data": {
      "text/plain": [
       "Index(['order_id', 'user_id', 'order_number', 'orders_day_of_week',\n",
       "       'order_hour_of_day', 'days_since_prior_order', 'active', 'product_id',\n",
       "       'add_to_cart_order', 'reordered', 'product_name', 'aisle_id',\n",
       "       'department_id', 'prices', 'price_range_loc', 'busiest_day',\n",
       "       'busiest_days', 'busiest_period_of_day', 'max_order', 'loyalty_flag',\n",
       "       'Spending', 'spending_flag', 'median_days_since_order',\n",
       "       'order_frequency_flag'],\n",
       "      dtype='object')"
      ]
     },
     "execution_count": 8,
     "metadata": {},
     "output_type": "execute_result"
    }
   ],
   "source": [
    "df.columns"
   ]
  },
  {
   "cell_type": "code",
   "execution_count": 9,
   "id": "82c49218",
   "metadata": {},
   "outputs": [
    {
     "data": {
      "text/html": [
       "<div>\n",
       "<style scoped>\n",
       "    .dataframe tbody tr th:only-of-type {\n",
       "        vertical-align: middle;\n",
       "    }\n",
       "\n",
       "    .dataframe tbody tr th {\n",
       "        vertical-align: top;\n",
       "    }\n",
       "\n",
       "    .dataframe thead th {\n",
       "        text-align: right;\n",
       "    }\n",
       "</style>\n",
       "<table border=\"1\" class=\"dataframe\">\n",
       "  <thead>\n",
       "    <tr style=\"text-align: right;\">\n",
       "      <th></th>\n",
       "      <th>order_id</th>\n",
       "      <th>user_id</th>\n",
       "      <th>order_number</th>\n",
       "      <th>orders_day_of_week</th>\n",
       "      <th>order_hour_of_day</th>\n",
       "      <th>days_since_prior_order</th>\n",
       "      <th>active</th>\n",
       "      <th>product_id</th>\n",
       "      <th>add_to_cart_order</th>\n",
       "      <th>reordered</th>\n",
       "      <th>...</th>\n",
       "      <th>price_range_loc</th>\n",
       "      <th>busiest_day</th>\n",
       "      <th>busiest_days</th>\n",
       "      <th>busiest_period_of_day</th>\n",
       "      <th>max_order</th>\n",
       "      <th>loyalty_flag</th>\n",
       "      <th>Spending</th>\n",
       "      <th>spending_flag</th>\n",
       "      <th>median_days_since_order</th>\n",
       "      <th>order_frequency_flag</th>\n",
       "    </tr>\n",
       "  </thead>\n",
       "  <tbody>\n",
       "    <tr>\n",
       "      <th>0</th>\n",
       "      <td>2539329</td>\n",
       "      <td>1</td>\n",
       "      <td>1</td>\n",
       "      <td>2</td>\n",
       "      <td>8</td>\n",
       "      <td>7.0</td>\n",
       "      <td>True</td>\n",
       "      <td>196</td>\n",
       "      <td>1</td>\n",
       "      <td>0</td>\n",
       "      <td>...</td>\n",
       "      <td>Mid-range product</td>\n",
       "      <td>Regularly busy</td>\n",
       "      <td>Regularly busy days</td>\n",
       "      <td>Average orders</td>\n",
       "      <td>10</td>\n",
       "      <td>New customer</td>\n",
       "      <td>6.367797</td>\n",
       "      <td>Low spender</td>\n",
       "      <td>20.0</td>\n",
       "      <td>Regular customer</td>\n",
       "    </tr>\n",
       "    <tr>\n",
       "      <th>1</th>\n",
       "      <td>2398795</td>\n",
       "      <td>1</td>\n",
       "      <td>2</td>\n",
       "      <td>3</td>\n",
       "      <td>7</td>\n",
       "      <td>15.0</td>\n",
       "      <td>False</td>\n",
       "      <td>196</td>\n",
       "      <td>1</td>\n",
       "      <td>1</td>\n",
       "      <td>...</td>\n",
       "      <td>Mid-range product</td>\n",
       "      <td>Regularly busy</td>\n",
       "      <td>Least busiest days</td>\n",
       "      <td>Average orders</td>\n",
       "      <td>10</td>\n",
       "      <td>New customer</td>\n",
       "      <td>6.367797</td>\n",
       "      <td>Low spender</td>\n",
       "      <td>20.0</td>\n",
       "      <td>Regular customer</td>\n",
       "    </tr>\n",
       "    <tr>\n",
       "      <th>2</th>\n",
       "      <td>473747</td>\n",
       "      <td>1</td>\n",
       "      <td>3</td>\n",
       "      <td>3</td>\n",
       "      <td>12</td>\n",
       "      <td>21.0</td>\n",
       "      <td>False</td>\n",
       "      <td>196</td>\n",
       "      <td>1</td>\n",
       "      <td>1</td>\n",
       "      <td>...</td>\n",
       "      <td>Mid-range product</td>\n",
       "      <td>Regularly busy</td>\n",
       "      <td>Least busiest days</td>\n",
       "      <td>Most orders</td>\n",
       "      <td>10</td>\n",
       "      <td>New customer</td>\n",
       "      <td>6.367797</td>\n",
       "      <td>Low spender</td>\n",
       "      <td>20.0</td>\n",
       "      <td>Regular customer</td>\n",
       "    </tr>\n",
       "    <tr>\n",
       "      <th>3</th>\n",
       "      <td>2254736</td>\n",
       "      <td>1</td>\n",
       "      <td>4</td>\n",
       "      <td>4</td>\n",
       "      <td>7</td>\n",
       "      <td>29.0</td>\n",
       "      <td>False</td>\n",
       "      <td>196</td>\n",
       "      <td>1</td>\n",
       "      <td>1</td>\n",
       "      <td>...</td>\n",
       "      <td>Mid-range product</td>\n",
       "      <td>Least Busy</td>\n",
       "      <td>Least busiest days</td>\n",
       "      <td>Average orders</td>\n",
       "      <td>10</td>\n",
       "      <td>New customer</td>\n",
       "      <td>6.367797</td>\n",
       "      <td>Low spender</td>\n",
       "      <td>20.0</td>\n",
       "      <td>Regular customer</td>\n",
       "    </tr>\n",
       "    <tr>\n",
       "      <th>4</th>\n",
       "      <td>431534</td>\n",
       "      <td>1</td>\n",
       "      <td>5</td>\n",
       "      <td>4</td>\n",
       "      <td>15</td>\n",
       "      <td>28.0</td>\n",
       "      <td>False</td>\n",
       "      <td>196</td>\n",
       "      <td>1</td>\n",
       "      <td>1</td>\n",
       "      <td>...</td>\n",
       "      <td>Mid-range product</td>\n",
       "      <td>Least Busy</td>\n",
       "      <td>Least busiest days</td>\n",
       "      <td>Most orders</td>\n",
       "      <td>10</td>\n",
       "      <td>New customer</td>\n",
       "      <td>6.367797</td>\n",
       "      <td>Low spender</td>\n",
       "      <td>20.0</td>\n",
       "      <td>Regular customer</td>\n",
       "    </tr>\n",
       "  </tbody>\n",
       "</table>\n",
       "<p>5 rows × 24 columns</p>\n",
       "</div>"
      ],
      "text/plain": [
       "   order_id  user_id  order_number  orders_day_of_week  order_hour_of_day  \\\n",
       "0   2539329        1             1                   2                  8   \n",
       "1   2398795        1             2                   3                  7   \n",
       "2    473747        1             3                   3                 12   \n",
       "3   2254736        1             4                   4                  7   \n",
       "4    431534        1             5                   4                 15   \n",
       "\n",
       "   days_since_prior_order  active  product_id  add_to_cart_order  reordered  \\\n",
       "0                     7.0    True         196                  1          0   \n",
       "1                    15.0   False         196                  1          1   \n",
       "2                    21.0   False         196                  1          1   \n",
       "3                    29.0   False         196                  1          1   \n",
       "4                    28.0   False         196                  1          1   \n",
       "\n",
       "   ...    price_range_loc     busiest_day         busiest_days  \\\n",
       "0  ...  Mid-range product  Regularly busy  Regularly busy days   \n",
       "1  ...  Mid-range product  Regularly busy   Least busiest days   \n",
       "2  ...  Mid-range product  Regularly busy   Least busiest days   \n",
       "3  ...  Mid-range product      Least Busy   Least busiest days   \n",
       "4  ...  Mid-range product      Least Busy   Least busiest days   \n",
       "\n",
       "   busiest_period_of_day max_order  loyalty_flag  Spending spending_flag  \\\n",
       "0         Average orders        10  New customer  6.367797   Low spender   \n",
       "1         Average orders        10  New customer  6.367797   Low spender   \n",
       "2            Most orders        10  New customer  6.367797   Low spender   \n",
       "3         Average orders        10  New customer  6.367797   Low spender   \n",
       "4            Most orders        10  New customer  6.367797   Low spender   \n",
       "\n",
       "   median_days_since_order order_frequency_flag  \n",
       "0                     20.0     Regular customer  \n",
       "1                     20.0     Regular customer  \n",
       "2                     20.0     Regular customer  \n",
       "3                     20.0     Regular customer  \n",
       "4                     20.0     Regular customer  \n",
       "\n",
       "[5 rows x 24 columns]"
      ]
     },
     "execution_count": 9,
     "metadata": {},
     "output_type": "execute_result"
    }
   ],
   "source": [
    "df.head()"
   ]
  },
  {
   "cell_type": "markdown",
   "id": "fd778e9c",
   "metadata": {},
   "source": [
    "### 01. Creating Bar Charts"
   ]
  },
  {
   "cell_type": "code",
   "execution_count": null,
   "id": "6f54e2b1",
   "metadata": {},
   "outputs": [],
   "source": [
    "# Create bar chart for orders_day_of_week according to index\n",
    "df['orders_day_of_week'].value_counts().sort_index().plot.bar()"
   ]
  },
  {
   "cell_type": "code",
   "execution_count": null,
   "id": "5b828b9d",
   "metadata": {},
   "outputs": [],
   "source": [
    "# Change color of bar plot\n",
    "df['orders_day_of_week'].value_counts().sort_index().plot.bar(color = 'orange')"
   ]
  },
  {
   "cell_type": "code",
   "execution_count": null,
   "id": "5abecb9f",
   "metadata": {},
   "outputs": [],
   "source": [
    "# Save chart within the bar object\n",
    "bar = df['orders_day_of_week'].value_counts().sort_index().plot.bar(color = 'orange')"
   ]
  },
  {
   "cell_type": "code",
   "execution_count": null,
   "id": "353d2fd3",
   "metadata": {},
   "outputs": [],
   "source": [
    "df['orders_day_of_week'].value_counts(dropna = False)"
   ]
  },
  {
   "cell_type": "code",
   "execution_count": null,
   "id": "0af989d7",
   "metadata": {},
   "outputs": [],
   "source": [
    "df['orders_day_of_week'].value_counts(dropna = False).sort_index()"
   ]
  },
  {
   "cell_type": "markdown",
   "id": "a7a79679",
   "metadata": {},
   "source": [
    "### 02. Exporting Charts"
   ]
  },
  {
   "cell_type": "code",
   "execution_count": null,
   "id": "cfc87ca6",
   "metadata": {},
   "outputs": [],
   "source": [
    "# Export bar chart outside of Jupyter in the form of an image file\n",
    "bar.figure.savefig(os.path.join(path, '04 Analysis','Visualizations','bar_orders_dow.png'))"
   ]
  },
  {
   "cell_type": "markdown",
   "id": "063bd353",
   "metadata": {},
   "source": [
    "### 03. Creating Histograms and Scatterplots"
   ]
  },
  {
   "cell_type": "code",
   "execution_count": null,
   "id": "3012c383",
   "metadata": {},
   "outputs": [],
   "source": [
    "# Create Histogram\n",
    "df['prices'].plot.hist(bins = 25)"
   ]
  },
  {
   "cell_type": "markdown",
   "id": "aa21af72",
   "metadata": {},
   "source": [
    "single bar shows that there is data corruption and an extreme outlier is affecting the output."
   ]
  },
  {
   "cell_type": "code",
   "execution_count": null,
   "id": "33a353ed",
   "metadata": {},
   "outputs": [],
   "source": [
    "# Create a scatterplot to help visualize the distribution of data points\n",
    "sns.scatterplot(x = 'prices', y = 'prices', data = df)"
   ]
  },
  {
   "cell_type": "code",
   "execution_count": null,
   "id": "db21bc54",
   "metadata": {},
   "outputs": [],
   "source": [
    "# Investigate the data points above the normal price of 100 for a supermarket (only show prices column)\n",
    "df.loc[df['prices'] > 100]"
   ]
  },
  {
   "cell_type": "code",
   "execution_count": null,
   "id": "2db77075",
   "metadata": {},
   "outputs": [],
   "source": [
    "# Turn unexplained data into missing\n",
    "df.loc[df['prices'] > 100, 'prices'] =np.nan"
   ]
  },
  {
   "cell_type": "code",
   "execution_count": null,
   "id": "951663aa",
   "metadata": {},
   "outputs": [],
   "source": [
    "# Check whether the replacement was successful\n",
    "df['prices'].max()"
   ]
  },
  {
   "cell_type": "code",
   "execution_count": null,
   "id": "b390f7b2",
   "metadata": {},
   "outputs": [],
   "source": [
    "# Re-try histogram with 25 bins\n",
    "hist = df['prices'].plot.hist(bins = 25)"
   ]
  },
  {
   "cell_type": "code",
   "execution_count": null,
   "id": "0cc6e53a",
   "metadata": {},
   "outputs": [],
   "source": [
    "# Increase level of granularity in histogram with 70 bins\n",
    "hist_2 = df['prices'].plot.hist(bins = 70)"
   ]
  },
  {
   "cell_type": "code",
   "execution_count": null,
   "id": "ac0c245d",
   "metadata": {},
   "outputs": [],
   "source": [
    "# Export histograms \n",
    "hist.figure.savefig(os.path.join(path, '04 Analysis','Visualizations','hist_orders_dow.png'))"
   ]
  },
  {
   "cell_type": "code",
   "execution_count": null,
   "id": "1711ceb5",
   "metadata": {},
   "outputs": [],
   "source": [
    "hist_2.figure.savefig(os.path.join(path, '04 Analysis','Visualizations','hist2_orders_dow.png'))"
   ]
  },
  {
   "cell_type": "markdown",
   "id": "7a137900",
   "metadata": {},
   "source": [
    "### 04. Creating Line Charts"
   ]
  },
  {
   "cell_type": "markdown",
   "id": "ac6f65f5",
   "metadata": {},
   "source": [
    "line = sns.lineplot(data = df, x = 'time column', y = 'changing variable')\n",
    "\n",
    "Cant check in this data set as there are no time columns. In the next section a sample of data is created to make a line chart or prices over days of the week. Since there are so many data points it would cause the computer to crash and that is why sampling needs to be done."
   ]
  },
  {
   "cell_type": "markdown",
   "id": "f6c44c24",
   "metadata": {},
   "source": [
    "### 05. Sampling Data"
   ]
  },
  {
   "cell_type": "code",
   "execution_count": 10,
   "id": "c5338cb3",
   "metadata": {},
   "outputs": [],
   "source": [
    "# Set seed to represent a random but reproducible pattern (can use any number but always use the same # to ensure you get the same random pattern)\n",
    "np.random.seed(4)"
   ]
  },
  {
   "cell_type": "code",
   "execution_count": 11,
   "id": "20a5e253",
   "metadata": {},
   "outputs": [],
   "source": [
    "# Create a list holding True/False values to the test np.random.rant() <=0.7\n",
    "dev = np.random.rand(len(df)) <= 0.7 "
   ]
  },
  {
   "cell_type": "code",
   "execution_count": 12,
   "id": "05392931",
   "metadata": {},
   "outputs": [
    {
     "data": {
      "text/plain": [
       "array([False,  True, False, ...,  True,  True,  True])"
      ]
     },
     "execution_count": 12,
     "metadata": {},
     "output_type": "execute_result"
    }
   ],
   "source": [
    "# New list of dev gives an output of True or False for every value based on whether it's less than or equal to 0.7\n",
    "dev"
   ]
  },
  {
   "cell_type": "code",
   "execution_count": 13,
   "id": "49704910",
   "metadata": {},
   "outputs": [],
   "source": [
    "# Store 70% of the sample in the dataframe big\n",
    "big = df[dev]"
   ]
  },
  {
   "cell_type": "code",
   "execution_count": 14,
   "id": "9274120b",
   "metadata": {},
   "outputs": [],
   "source": [
    "# Store 30% of the sample data in the dataframe small\n",
    "small = df[~dev]"
   ]
  },
  {
   "cell_type": "code",
   "execution_count": 15,
   "id": "319408e8",
   "metadata": {},
   "outputs": [
    {
     "data": {
      "text/plain": [
       "32404859"
      ]
     },
     "execution_count": 15,
     "metadata": {},
     "output_type": "execute_result"
    }
   ],
   "source": [
    "# Check number of rows or original data\n",
    "len(df)"
   ]
  },
  {
   "cell_type": "code",
   "execution_count": 16,
   "id": "148ea9ec",
   "metadata": {},
   "outputs": [
    {
     "data": {
      "text/plain": [
       "32404859"
      ]
     },
     "execution_count": 16,
     "metadata": {},
     "output_type": "execute_result"
    }
   ],
   "source": [
    "# Check total of new dataframes big and small to make sure they match org.\n",
    "len(big) + len(small)"
   ]
  },
  {
   "cell_type": "code",
   "execution_count": 17,
   "id": "72548a79",
   "metadata": {},
   "outputs": [],
   "source": [
    "# Reduce sample to only necessary columns to speed up processing\n",
    "df_2 = small[['orders_day_of_week','prices']]"
   ]
  },
  {
   "cell_type": "code",
   "execution_count": 18,
   "id": "b794973a",
   "metadata": {
    "scrolled": true
   },
   "outputs": [
    {
     "data": {
      "image/png": "[encoded data removed]",
      "text/plain": [
       "<Figure size 432x288 with 1 Axes>"
      ]
     },
     "metadata": {
      "needs_background": "light"
     },
     "output_type": "display_data"
    }
   ],
   "source": [
    "# Create line chart\n",
    "line = sns.lineplot(data = df_2, x = 'orders_day_of_week', y = 'prices')"
   ]
  },
  {
   "cell_type": "code",
   "execution_count": null,
   "id": "74ebe64b",
   "metadata": {},
   "outputs": [],
   "source": []
  }
 ],
 "metadata": {
  "kernelspec": {
   "display_name": "Python 3 (ipykernel)",
   "language": "python",
   "name": "python3"
  },
  "language_info": {
   "codemirror_mode": {
    "name": "ipython",
    "version": 3
   },
   "file_extension": ".py",
   "mimetype": "text/x-python",
   "name": "python",
   "nbconvert_exporter": "python",
   "pygments_lexer": "ipython3",
   "version": "3.9.12"
  }
 },
 "nbformat": 4,
 "nbformat_minor": 5
}
